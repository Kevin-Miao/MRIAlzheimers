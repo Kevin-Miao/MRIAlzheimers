{
 "cells": [
  {
   "cell_type": "code",
   "execution_count": 5,
   "metadata": {},
   "outputs": [],
   "source": [
    "import numpy as np\n",
    "import pandas as pd\n",
    "import matplotlib\n",
    "%matplotlib inline\n",
    "import matplotlib.pyplot as plt\n",
    "plt.style.use('fivethirtyeight')\n",
    "import warnings\n",
    "warnings.simplefilter('ignore', FutureWarning)\n",
    "from matplotlib import patches\n",
    "from ipywidgets import interact, interactive, fixed #pip installed ipywdigets in Terminal\n",
    "import ipywidgets as widgets"
   ]
  },
  {
   "cell_type": "markdown",
   "metadata": {},
   "source": [
    "# MRI and Alzheimers"
   ]
  },
  {
   "cell_type": "markdown",
   "metadata": {},
   "source": [
    "Hello Team,\n",
    "\n",
    "\n",
    "Let's do this project real quick. It is going to be a fun and promising project since all of us have some background in CS. However, it is worth noting that CS and Data Science are different aspect as well. Therefore, make sure to understand the statistics and methodology of them. Do not feel hesitant in contacting other team members. I am sure that we all will be like 'WTF' at some point.\n",
    "\n",
    "Anyway, the project is broken down in 6 phases:\n",
    "\n",
    "* **Phase 0** : `empty`\n",
    "* **Phase 1** : `empty`\n",
    "* **Phase 2** : `empty`\n",
    "* **Phase 3** : `empty`\n",
    "* **Phase 4** : `empty`\n",
    "* **Phase 5** : `empty`\n",
    "\n",
    "#### Notes: \n",
    "If you are `pip instal`ling something, make sure to make a `#markdown` next to it or to refer to it in a markdown under it to explain what you did. This way we will not have any instances similar to the BigQuery issue.\n",
    "\n",
    "Feel free to work on whatever you want. Make sure to let each other know what we are working and what we are doing. This means by telling each other that we are working on a particular phase (and therefore should not push/commit something at the same time) but also to make sure that we are all on the same page with regards to the execution of certain things. "
   ]
  },
  {
   "cell_type": "markdown",
   "metadata": {},
   "source": [
    "Before we get started and jump right into it, here a list of useful resources:\n",
    "\n",
    "- **GitHub:** https://github.com/Kevin-Miao/MRIAlzheimers\n",
    "- **Jupyter Notebook Markdown Cheat Sheet:** https://medium.com/ibm-data-science-experience/markdown-for-jupyter-notebooks-cheatsheet-386c05aeebed\n",
    "- **Kaggle** (For learning Pandas/Python, but also for datasets)\n",
    "- **Pandas Reference Sheet:** https://pandas.pydata.org/Pandas_Cheat_Sheet.pdf\n",
    "- **DS100** Useful textbook: http://www.ds100.org/"
   ]
  },
  {
   "cell_type": "code",
   "execution_count": null,
   "metadata": {},
   "outputs": [],
   "source": []
  }
 ],
 "metadata": {
  "kernelspec": {
   "display_name": "Python 3",
   "language": "python",
   "name": "python3"
  },
  "language_info": {
   "codemirror_mode": {
    "name": "ipython",
    "version": 3
   },
   "file_extension": ".py",
   "mimetype": "text/x-python",
   "name": "python",
   "nbconvert_exporter": "python",
   "pygments_lexer": "ipython3",
   "version": "3.6.5"
  }
 },
 "nbformat": 4,
 "nbformat_minor": 2
}
