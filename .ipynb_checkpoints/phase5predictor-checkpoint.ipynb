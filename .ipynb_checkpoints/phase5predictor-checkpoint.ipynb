{
 "cells": [
  {
   "cell_type": "code",
   "execution_count": 1,
   "metadata": {},
   "outputs": [],
   "source": [
    "import numpy as np\n",
    "import pandas as pd\n",
    "import matplotlib\n",
    "%matplotlib inline\n",
    "import matplotlib.pyplot as plt\n",
    "plt.style.use('fivethirtyeight')\n",
    "import warnings\n",
    "warnings.simplefilter('ignore', FutureWarning)\n",
    "from matplotlib import patches\n",
    "import ipywidgets as widgets\n",
    "from sklearn import preprocessing"
   ]
  },
  {
   "cell_type": "markdown",
   "metadata": {},
   "source": [
    "Clean the data!"
   ]
  },
  {
   "cell_type": "code",
   "execution_count": 2,
   "metadata": {},
   "outputs": [
    {
     "name": "stdout",
     "output_type": "stream",
     "text": [
      "<class 'numpy.ndarray'>\n",
      "(436, 9)\n"
     ]
    }
   ],
   "source": [
    "#pull data\n",
    "cs = pd.read_csv('oasis_cross-sectional.csv')\n",
    "long = pd.read_csv('')\n",
    "cs = cs.drop(['Hand', 'Delay', \"ID\"], axis=1)\n",
    "\n",
    "#fill NA values w median values\n",
    "cs[\"Educ\"] = cs[\"Educ\"].fillna(cs[\"Educ\"].median())\n",
    "cs[\"SES\"] = cs[\"SES\"].fillna(cs[\"SES\"].median())\n",
    "cs[\"MMSE\"] = cs[\"MMSE\"].fillna(cs[\"MMSE\"].median())\n",
    "cs[\"CDR\"] = cs[\"CDR\"].fillna(cs[\"CDR\"].median())\n",
    "\n",
    "#change categorical variable age to numercail\n",
    "# M --> 0, F --> 1\n",
    "cs[\"M/F\"] = cs[\"M/F\"].map(dict({\"M\": 0, \"F\": 1}))\n",
    "cs.head()\n",
    "\n",
    "#standardize age and eTIV to range between 0 and 1\n",
    "scaler = preprocessing.MinMaxScaler(feature_range=(0,1))\n",
    "cs_age = cs[\"Age\"].astype(np.float64).values.reshape(1, -1)\n",
    "print(type(cs_age))\n",
    "cs_eTIV = cs[\"eTIV\"].astype(np.float64).values.reshape(1, -1)\n",
    "\n",
    "#df_scaled = pd.DataFrame(scaler.fit_transform(df), columns=df.columns\n",
    "#df['Col1_scaled'] = scaler.fit_transform(df['Col1'].values.reshape(-1,1))\n",
    "cs[\"Age\"] = cs[\"Age\"].astype(np.float64)\n",
    "cs[\"eTIV\"] = cs[\"eTIV\"].astype(np.float64)\n",
    "cs[\"Age\"] = scaler.fit_transform(cs[\"Age\"].values.reshape(-1, 1))\n",
    "cs[\"eTIV\"] = scaler.fit_transform(cs[\"eTIV\"].values.reshape(-1, 1))\n",
    "\n",
    "cs_eTIV_norm = scaler.fit_transform(cs_eTIV)\n",
    "\n",
    "print(cs.shape)"
   ]
  },
  {
   "cell_type": "code",
   "execution_count": 3,
   "metadata": {},
   "outputs": [
    {
     "name": "stdout",
     "output_type": "stream",
     "text": [
      "436\n"
     ]
    },
    {
     "data": {
      "image/png": "[encoded data removed]",
      "text/plain": [
       "<Figure size 432x288 with 1 Axes>"
      ]
     },
     "metadata": {
      "needs_background": "light"
     },
     "output_type": "display_data"
    }
   ],
   "source": [
    "print(len(cs[\"MMSE\"]))\n",
    "plt.scatter(cs[\"MMSE\"], cs[\"CDR\"])\n",
    "plt.show()"
   ]
  },
  {
   "cell_type": "code",
   "execution_count": 4,
   "metadata": {},
   "outputs": [
    {
     "data": {
      "image/png": "[encoded data removed]",
      "text/plain": [
       "<Figure size 432x288 with 1 Axes>"
      ]
     },
     "metadata": {
      "needs_background": "light"
     },
     "output_type": "display_data"
    }
   ],
   "source": [
    "plt.scatter(cs[\"Age\"], cs[\"CDR\"])\n",
    "plt.show()"
   ]
  },
  {
   "cell_type": "markdown",
   "metadata": {},
   "source": [
    "For our predictor, we will have our model predict the CDR of a patient given other clinical data that does not require the interpretation of a doctor. This means we will train on all data other than MMSE and CDR. "
   ]
  },
  {
   "cell_type": "code",
   "execution_count": 5,
   "metadata": {},
   "outputs": [
    {
     "name": "stdout",
     "output_type": "stream",
     "text": [
      "349\n",
      "(349, 1) -> (349, 5)\n",
      "[[1, 0, 0, 0, 0], [0, 0, 1, 0, 0], [1, 0, 0, 0, 0], [1, 0, 0, 0, 0], [0, 1, 0, 0, 0], [1, 0, 0, 0, 0], [0, 1, 0, 0, 0], [1, 0, 0, 0, 0], [1, 0, 0, 0, 0], [0, 1, 0, 0, 0]]\n",
      "    M/F       Age  Educ  SES      eTIV   nWBV    ASF\n",
      "7     1  0.256410   3.0  2.0  0.505178  0.844  1.123\n",
      "11    1  0.743590   3.0  2.0  0.261220  0.763  1.300\n",
      "13    1  0.628205   2.0  2.0  0.609896  0.693  1.062\n",
      "27    1  0.051282   3.0  2.0  0.253165  0.847  1.307\n",
      "37    0  0.743590   2.0  2.0  0.707710  0.719  1.010\n"
     ]
    }
   ],
   "source": [
    "#shuffle the data set\n",
    "cs = cs.sample(frac=1).reset_index(drop=True)\n",
    "#split into training and test set\n",
    "train = cs.sample(frac=.8)\n",
    "test = cs.drop(train.index)\n",
    "\n",
    "#separate data and labels\n",
    "train_label = train[[\"CDR\"]]\n",
    "train_data = train.drop(columns=[\"CDR\", \"MMSE\"])\n",
    "\n",
    "\n",
    "test_label = test[[\"CDR\"]]\n",
    "test_data = test.drop(columns=[\"CDR\", \"MMSE\"])\n",
    "\n",
    "\n",
    "'''\n",
    "Function that converts numerical representation\n",
    "to a one hot representation.  That is if there\n",
    "are n different classes, class k will be represented\n",
    "by a vector of length n with all zeros except for a\n",
    "single 1 at index k.\n",
    "'''\n",
    "def one_hot(labels, classes):\n",
    "    return [[int(i==l) for i in classes] for l in labels]\n",
    "\n",
    "print(len(train_label))\n",
    "#print(train_label)\n",
    "#Convert training labels to one hot encoded vectors\n",
    "one_hot_training_labels = one_hot(labels=train_label.values, classes=[0, 0.5, 1, 2, 3])\n",
    "\n",
    "print(f\"{np.shape(train_label.values)} -> {np.shape(one_hot_training_labels)}\")\n",
    "\n",
    "\n",
    "#Convert test labels to one hot encoded vectors\n",
    "one_hot_test_labels = one_hot(labels=test_label.values, classes=[0, 0.5, 1, 2, 3])\n",
    "\n",
    "print(one_hot_training_labels[0:10])\n",
    "print(test_data[0:5])"
   ]
  },
  {
   "cell_type": "code",
   "execution_count": 6,
   "metadata": {},
   "outputs": [
    {
     "name": "stdout",
     "output_type": "stream",
     "text": [
      "Training...\n",
      "Complete.\n",
      "Optimal Logistic Regression scores\n",
      "Accuracy on Training Data:  0.7679083094555874\n",
      "Accuracy on Test Data:  0.7816091954022989\n"
     ]
    }
   ],
   "source": [
    "'''\n",
    "Here we use an optimized sklearn logistic regression\n",
    "implementation to gauge how well or neural network\n",
    "performs later\n",
    "'''\n",
    "from sklearn.linear_model import LogisticRegression\n",
    "\n",
    "'''\n",
    "Multinomial indicates that we have multiple classes,\n",
    "that is our output is not a single number 0 to 1 but\n",
    "a probability distribution between the different classes.\n",
    "More on how this works later.  'Saga' is an optimizer\n",
    "capable of solving multinomial regression.  Typically\n",
    "results are greatly diminishing after the first couple\n",
    "iterations.  max_iter=10 is to prevent the fitting\n",
    "process from taking excessively long.\n",
    "'''\n",
    "model = LogisticRegression(solver='saga',max_iter=10000, C=0.0001, multi_class='multinomial')\n",
    "print(\"Training...\")\n",
    "cat_labels = np.argmax(one_hot_training_labels, axis=1)\n",
    "# print(train_data.head(10))\n",
    "# print(train_label.head(10))\n",
    "# print(cat_labels[0:10])f\n",
    "model.fit(train_data, cat_labels)\n",
    "print(\"Complete.\")\n",
    "lr_weight_mat = model.coef_\n",
    "lr_bias = model.intercept_\n",
    "\n",
    "print(\"Optimal Logistic Regression scores\")\n",
    "print(\"Accuracy on Training Data: \",model.score(train_data,cat_labels))\n",
    "print(\"Accuracy on Test Data: \",model.score(test_data,np.argmax(one_hot_test_labels, axis=1)))"
   ]
  },
  {
   "cell_type": "code",
   "execution_count": 7,
   "metadata": {},
   "outputs": [],
   "source": [
    "import tensorflow as tf"
   ]
  },
  {
   "cell_type": "code",
   "execution_count": 8,
   "metadata": {},
   "outputs": [
    {
     "name": "stdout",
     "output_type": "stream",
     "text": [
      "WARNING:tensorflow:From C:\\Users\\Terrance\\Anaconda3\\envs\\dss\\lib\\site-packages\\tensorflow\\python\\framework\\op_def_library.py:263: colocate_with (from tensorflow.python.framework.ops) is deprecated and will be removed in a future version.\n",
      "Instructions for updating:\n",
      "Colocations handled automatically by placer.\n"
     ]
    }
   ],
   "source": [
    "'''\n",
    "These functions return parameters for our network.\n",
    "These are variables that can modified during the training process.\n",
    "These functions also serve to provide the necessary initial values.\n",
    "'''\n",
    "def weight_variable(shape):\n",
    "    initial = tf.truncated_normal(shape,stddev=0.1)\n",
    "    return tf.Variable(initial)\n",
    "\n",
    "def bias_variable(shape):\n",
    "    initial = tf.constant(0.0,shape=shape)\n",
    "    return tf.Variable(initial)\n",
    "\n",
    "'''\n",
    "This method returns the outputs resulting from a fully connected layer.\n",
    "inp contains the activations of the previous layer.\n",
    "inp_dim: # of neurons in input layer, out_dim: # of neurons in this layer.\n",
    "'''\n",
    "def fully_connected(inp,inp_dim,out_dim,activation=None):\n",
    "    weight_matrix = weight_variable([inp_dim,out_dim])\n",
    "    bias = bias_variable([out_dim])\n",
    "    raw = tf.matmul(inp,weight_matrix)+bias\n",
    "    if(activation):\n",
    "        return activation(raw)\n",
    "    else:\n",
    "        return raw\n",
    "\n",
    "    \n",
    "#Placeholder for image data (# of images x pixel values)\n",
    "x = tf.placeholder(tf.float32,shape=[None,7])\n",
    "#Placeholder for labels (# of images x # of classes)\n",
    "y = tf.placeholder(tf.float32,shape=[None,5])\n",
    "\n",
    "    #1st hidden layer has 100 neurons\n",
    "h1 = fully_connected(inp=x,inp_dim=7,out_dim=50,activation=tf.nn.relu)\n",
    "    #2nd hidden layer has 50 neurons\n",
    "h2 = fully_connected(inp=h1,inp_dim=50,out_dim=80,activation=tf.nn.relu)\n",
    "\n",
    "h3 = fully_connected(inp=h2, inp_dim=80,out_dim=50,activation=tf.nn.relu)\n",
    "    #Final layer maps to output 10 neurons for 10 classes\n",
    "out= fully_connected(inp=h3,inp_dim=50,out_dim=5)"
   ]
  },
  {
   "cell_type": "code",
   "execution_count": 9,
   "metadata": {},
   "outputs": [],
   "source": [
    "'''\n",
    "These functions return parameters for our network.\n",
    "These are variables that can modified during the training process.\n",
    "These functions also serve to provide the necessary initial values.\n",
    "'''\n",
    "def weight_variable(shape):\n",
    "    initial = tf.truncated_normal(shape,stddev=0.1)\n",
    "    return tf.Variable(initial)\n",
    "\n",
    "def bias_variable(shape):\n",
    "    initial = tf.constant(0.0,shape=shape)\n",
    "    return tf.Variable(initial)\n",
    "\n",
    "'''\n",
    "This method returns the outputs resulting from a fully connected layer.\n",
    "inp contains the activations of the previous layer.\n",
    "inp_dim: # of neurons in input layer, out_dim: # of neurons in this layer.\n",
    "'''\n",
    "def fully_connected(inp,inp_dim,out_dim,activation=None):\n",
    "    weight_matrix = weight_variable([inp_dim,out_dim])\n",
    "    bias = bias_variable([out_dim])\n",
    "    raw = tf.matmul(inp,weight_matrix)+bias\n",
    "    if(activation):\n",
    "        return activation(raw)\n",
    "    else:\n",
    "        return raw"
   ]
  },
  {
   "cell_type": "code",
   "execution_count": 10,
   "metadata": {},
   "outputs": [],
   "source": [
    "#Cross entropy loss applied after using softmax activation\n",
    "loss = tf.reduce_mean(tf.nn.softmax_cross_entropy_with_logits_v2(labels=y,logits=out))"
   ]
  },
  {
   "cell_type": "code",
   "execution_count": 21,
   "metadata": {},
   "outputs": [],
   "source": [
    "'''\n",
    "Adam optimizer performs gradient descent while\n",
    "also performing learning rate adaptation and\n",
    "handling class imbalance.  Note the latter\n",
    "is not a concern with MNIST.\n",
    "'''\n",
    "train_step = tf.train.AdamOptimizer(learning_rate=1e-3).minimize(loss)\n",
    "\n",
    "'''\n",
    "The network's prediction is the class it offers\n",
    "the highest probability and its accuracy is\n",
    "computed accordingly.\n",
    "'''\n",
    "correct_prediction = tf.equal(tf.argmax(out,axis=1),tf.argmax(y,axis=1))\n",
    "accuracy = tf.reduce_mean(tf.cast(correct_prediction,tf.float32))"
   ]
  },
  {
   "cell_type": "code",
   "execution_count": 24,
   "metadata": {},
   "outputs": [],
   "source": [
    "'''Initializing session and parameters'''\n",
    "#Initialize tensorflow session\n",
    "sess = tf.InteractiveSession()\n",
    "#Parameters assigned initial values\n",
    "sess.run(tf.global_variables_initializer())"
   ]
  },
  {
   "cell_type": "code",
   "execution_count": null,
   "metadata": {},
   "outputs": [],
   "source": []
  },
  {
   "cell_type": "code",
   "execution_count": 27,
   "metadata": {},
   "outputs": [
    {
     "name": "stdout",
     "output_type": "stream",
     "text": [
      "Training Loss: 0.512  Accuracy: 0.74\n",
      "Validation Loss: 0.481  Accuracy: 0.778\n",
      "Epoch  1\n",
      "Batch 1\r",
      "Batch 2\r",
      "Batch 3\r",
      "Batch 4\r",
      "Batch 5\r",
      "Batch 6\r",
      "Batch 7\r",
      "Batch 8\r",
      "Batch 9\r",
      "Batch 10\r",
      "Batch 11\r",
      "Batch 12\r\n",
      "Training Loss: 0.511  Accuracy: 0.736\n",
      "Validation Loss: 0.479  Accuracy: 0.768\n",
      "Epoch  2\n",
      "Batch 1\r",
      "Batch 2\r",
      "Batch 3\r",
      "Batch 4\r",
      "Batch 5\r",
      "Batch 6\r",
      "Batch 7\r",
      "Batch 8\r",
      "Batch 9\r",
      "Batch 10\r",
      "Batch 11\r",
      "Batch 12\r\n",
      "Training Loss: 0.509  Accuracy: 0.74\n",
      "Validation Loss: 0.48  Accuracy: 0.758\n",
      "Epoch  3\n",
      "Batch 1\r",
      "Batch 2\r",
      "Batch 3\r",
      "Batch 4\r",
      "Batch 5\r",
      "Batch 6\r",
      "Batch 7\r",
      "Batch 8\r",
      "Batch 9\r",
      "Batch 10\r",
      "Batch 11\r",
      "Batch 12\r\n",
      "Training Loss: 0.508  Accuracy: 0.74\n",
      "Validation Loss: 0.48  Accuracy: 0.758\n"
     ]
    },
    {
     "data": {
      "image/png": "[encoded data removed]",
      "text/plain": [
       "<Figure size 432x288 with 2 Axes>"
      ]
     },
     "metadata": {
      "needs_background": "light"
     },
     "output_type": "display_data"
    }
   ],
   "source": [
    "'''TRAINING'''\n",
    "\n",
    "#Separating 10000 validation images from training set\n",
    "training_data, val_data = train_data[:250],train_data[250:]\n",
    "t_labels, v_labels = one_hot_training_labels[:250],one_hot_training_labels[250:]\n",
    "\n",
    "#Maximum number of epochs to run\n",
    "EPOCHS = 100\n",
    "#Number of images to consider at once while training\n",
    "batch_size = 20\n",
    "num_batches = len(training_data)//batch_size\n",
    "\n",
    "#Keep track of loss and accuracy for graphing\n",
    "performance = {'t_l':[],'t_a':[],'v_l':[],'v_a':[]}\n",
    "\n",
    "'''\n",
    "Evaluate loss and accuracy on training and validation \n",
    "sets.  Additionally append metrics to performance tracker.\n",
    "'''\n",
    "def eval_performance():\n",
    "    l,a = sess.run([loss,accuracy],feed_dict={x:training_data,y:t_labels})\n",
    "    performance['t_l'].append(l)\n",
    "    performance['t_a'].append(a)\n",
    "    print(f\"Training Loss: {l:.3}  Accuracy: {a:.3}\")\n",
    "    l,a = sess.run([loss,accuracy],feed_dict={x:val_data,y:v_labels})\n",
    "    performance['v_l'].append(l)\n",
    "    performance['v_a'].append(a)\n",
    "    print(f\"Validation Loss: {l:.3}  Accuracy: {a:.3}\")\n",
    "\n",
    "for e in range(EPOCHS):\n",
    "    #Before beginning the epoch evaluate performance\n",
    "    eval_performance()\n",
    "    '''\n",
    "    Early stopping.  When validation performance significantly drops\n",
    "    we know the model is overfitting.  Note the training loss will\n",
    "    likely continue to go down.\n",
    "    '''\n",
    "    if(len(performance['v_l'])>2 and performance['v_l'][-1]>performance['v_l'][-3]):\n",
    "        EPOCHS = e+1\n",
    "        break\n",
    "    print(\"Epoch \",e+1)\n",
    "    #Pass through the whole training dataset once\n",
    "    for b in range(num_batches):\n",
    "        print(f\"Batch {b+1}\",end = '\\r')\n",
    "        images = train_data[b*batch_size:(b+1)*batch_size]\n",
    "        labels = one_hot_training_labels[b*batch_size:(b+1)*batch_size]\n",
    "        sess.run(train_step,feed_dict={x:images,y:labels})\n",
    "    print()\n",
    "\n",
    "'''    \n",
    "Plot loss for training and validation sets over the\n",
    "epochs.  Note the first item is left out in both of\n",
    "these as prior to any training, loss will be wildly\n",
    "high and accuracy will be very low.  Doing this\n",
    "allows us to zoom in on the interesting part.\n",
    "'''\n",
    "plt.subplot(121)\n",
    "plt.title(\"Loss\")\n",
    "plt.plot(range(EPOCHS-1),performance['t_l'][1:])\n",
    "plt.plot(range(EPOCHS-1),performance['v_l'][1:])\n",
    "plt.legend(['Training','Validation'])\n",
    "\n",
    "plt.subplot(122)\n",
    "plt.title(\"Accuracy\")\n",
    "plt.plot(range(EPOCHS-1),performance['t_a'][1:])\n",
    "plt.plot(range(EPOCHS-1),performance['v_a'][1:])\n",
    "plt.legend(['Training','Validation'])\n",
    "\n",
    "plt.show()"
   ]
  },
  {
   "cell_type": "code",
   "execution_count": 28,
   "metadata": {},
   "outputs": [
    {
     "name": "stdout",
     "output_type": "stream",
     "text": [
      "Final Test Accuracy:\n",
      "0.8045977\n"
     ]
    }
   ],
   "source": [
    "print(\"Final Test Accuracy:\")\n",
    "print(sess.run(accuracy,feed_dict={x:test_data,y:one_hot_test_labels}))"
   ]
  },
  {
   "cell_type": "code",
   "execution_count": 23,
   "metadata": {},
   "outputs": [],
   "source": [
    "sess.close()"
   ]
  }
 ],
 "metadata": {
  "kernelspec": {
   "display_name": "Python 3",
   "language": "python",
   "name": "python3"
  },
  "language_info": {
   "codemirror_mode": {
    "name": "ipython",
    "version": 3
   },
   "file_extension": ".py",
   "mimetype": "text/x-python",
   "name": "python",
   "nbconvert_exporter": "python",
   "pygments_lexer": "ipython3",
   "version": "3.6.5"
  }
 },
 "nbformat": 4,
 "nbformat_minor": 2
}
